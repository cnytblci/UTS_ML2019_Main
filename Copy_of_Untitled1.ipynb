{
  "nbformat": 4,
  "nbformat_minor": 0,
  "metadata": {
    "colab": {
      "name": "Copy of Untitled1.ipynb",
      "provenance": [],
      "collapsed_sections": [],
      "include_colab_link": true
    },
    "kernelspec": {
      "name": "python3",
      "display_name": "Python 3"
    },
    "accelerator": "GPU"
  },
  "cells": [
    {
      "cell_type": "markdown",
      "metadata": {
        "id": "view-in-github",
        "colab_type": "text"
      },
      "source": [
        "<a href=\"https://colab.research.google.com/github/cnytblci/UTS_ML2019_Main/blob/master/Copy_of_Untitled1.ipynb\" target=\"_parent\"><img src=\"https://colab.research.google.com/assets/colab-badge.svg\" alt=\"Open In Colab\"/></a>"
      ]
    },
    {
      "cell_type": "code",
      "metadata": {
        "id": "7Oe0dLdMOqYr",
        "colab_type": "code",
        "colab": {}
      },
      "source": [
        "import pandas as pd\n",
        "import numpy as np\n",
        "\n",
        "from google.colab import drive \n",
        "drive.mount('/content/drive')"
      ],
      "execution_count": 0,
      "outputs": []
    },
    {
      "cell_type": "code",
      "metadata": {
        "id": "Juv7_XzbUzPG",
        "colab_type": "code",
        "colab": {}
      },
      "source": [
        "df=pd.read_csv('/content/drive/My Drive/athlete_events.csv')\n",
        "df.iloc[0:10]"
      ],
      "execution_count": 0,
      "outputs": []
    },
    {
      "cell_type": "code",
      "metadata": {
        "id": "J_DAn4Y-S_hr",
        "colab_type": "code",
        "colab": {}
      },
      "source": [
        "# Clear Distribution graph shown here\n",
        "\n",
        "import matplotlib.pyplot as plt\n",
        "\n",
        "ax = df['Age'].hist(bins=15, density=True, stacked=True, color='blue', alpha=0.6)\n",
        "df['Age'].plot(kind='density', color='red')\n",
        "ax.set(xlabel='Age')\n",
        "plt.xlim(0,160)\n",
        "plt.show()\n",
        "\n",
        "ax = df['Height'].hist(bins=17, density=True, stacked=True, color='blue', alpha=0.6)\n",
        "df['Height'].plot(kind='density', color='red')\n",
        "ax.set(xlabel='Height')\n",
        "plt.xlim(100,270)\n",
        "plt.show()\n",
        "\n",
        "ax = df['Weight'].hist(bins=17, density=True, stacked=True, color='blue', alpha=0.6)\n",
        "df['Weight'].plot(kind='density', color='red')\n",
        "ax.set(xlabel='Weight')\n",
        "plt.xlim(0,370)\n",
        "plt.show()"
      ],
      "execution_count": 0,
      "outputs": []
    },
    {
      "cell_type": "code",
      "metadata": {
        "id": "GkYrqhFtjzHX",
        "colab_type": "code",
        "colab": {}
      },
      "source": [
        "df.isnull().sum()"
      ],
      "execution_count": 0,
      "outputs": []
    },
    {
      "cell_type": "code",
      "metadata": {
        "id": "u_8QjVAEWOBE",
        "colab_type": "code",
        "colab": {}
      },
      "source": [
        "#HANDLING WITH MISSING VALUES\n",
        "import statistics\n",
        "# fiter dataframe to select rows where Height is not Null, then only select the Height column from the result\n",
        "z = df[df.Height.notnull()]['Height']\n",
        "# find the average of the resulting height column\n",
        "h_avg = np.average(z)\n",
        "# the orignal height column is equal to the orignal height column with nan replaced with the average\n",
        "df['Height'] = df['Height'].fillna(h_avg)\n",
        "\n",
        "# Since age is right skewed, null values are replaced with median\n",
        "df['Age'] = df['Age'].fillna(statistics.median(df['Age']))\n",
        "\n",
        "# same as above but with Weight\n",
        "w_avg = np.average(df[df.Weight.notnull()]['Weight'])\n",
        "df['Weight'] = df['Weight'].fillna(w_avg)\n",
        "\n",
        "#fill null medal values with 'not awarded' \n",
        "df['Medal']=df['Medal'].fillna('Not awarded')\n",
        "\n",
        "df.isnull().sum()\n"
      ],
      "execution_count": 0,
      "outputs": []
    },
    {
      "cell_type": "code",
      "metadata": {
        "id": "zWcycjm_lYX5",
        "colab_type": "code",
        "colab": {}
      },
      "source": [
        "from sklearn import preprocessing\n",
        "min_max_scaler = preprocessing.MinMaxScaler()\n",
        "\n",
        "#Height normalization\n",
        "h=df[['Height']].values.astype(float)\n",
        "h_scaled = min_max_scaler.fit_transform(h)\n",
        "h_normalized = pd.DataFrame(h_scaled)\n",
        "\n",
        "df['Normalized_Height'] = h_normalized\n",
        "df = df.drop(['Height'],axis=1)\n"
      ],
      "execution_count": 0,
      "outputs": []
    },
    {
      "cell_type": "code",
      "metadata": {
        "id": "isakBL7tpkd_",
        "colab_type": "code",
        "colab": {}
      },
      "source": [
        "print(df['Age'].describe())\n",
        "\n",
        "#Boxplot of Weight\n",
        "df.boxplot(column=['Weight'],figsize=(8,6))"
      ],
      "execution_count": 0,
      "outputs": []
    },
    {
      "cell_type": "code",
      "metadata": {
        "id": "I38ZCrjSaWSo",
        "colab_type": "code",
        "colab": {}
      },
      "source": [
        "#Age dicretization\n",
        "a_bin = pd.cut(np.array(df['Age']), 7,labels=[\"age1\",\"age2\",\"age3\",\"age4\",\"age5\",\"age6\",\"age7\"])\n",
        "print(a_bin)\n",
        "\n",
        "a_list=df['Age'].values.tolist()\n",
        "print(a_list)\n",
        "\n",
        "df['new_age'] = a_bin\n",
        "df = df.drop(['Age'],axis=1)\n"
      ],
      "execution_count": 0,
      "outputs": []
    },
    {
      "cell_type": "code",
      "metadata": {
        "id": "1kjjyer5COOT",
        "colab_type": "code",
        "colab": {}
      },
      "source": [
        "df.head(10)"
      ],
      "execution_count": 0,
      "outputs": []
    },
    {
      "cell_type": "code",
      "metadata": {
        "id": "VFLnwEMoGs8C",
        "colab_type": "code",
        "colab": {}
      },
      "source": [
        "from sklearn.preprocessing import LabelEncoder\n",
        "\n",
        "lb_encode = LabelEncoder()\n",
        "df['Sex_Code'] = lb_encode.fit_transform(df['Sex'])\n",
        "df['Sport_Code'] = lb_encode.fit_transform(df['Sport'])\n",
        "df['Event_Code'] = lb_encode.fit_transform(df['Event'])\n",
        "df['Medal_Code'] = lb_encode.fit_transform(df['Medal'])\n",
        "df['Age_Code'] = lb_encode.fit_transform(df['new_age'])\n",
        "df.head()"
      ],
      "execution_count": 0,
      "outputs": []
    },
    {
      "cell_type": "code",
      "metadata": {
        "id": "2eaInQ-A5DdV",
        "colab_type": "code",
        "colab": {}
      },
      "source": [
        "# Correlation Matrix \n",
        "\n",
        "rs = np.random.RandomState(0)\n",
        "corr = df.corr()\n",
        "corr.style.background_gradient(cmap='coolwarm')"
      ],
      "execution_count": 0,
      "outputs": []
    },
    {
      "cell_type": "code",
      "metadata": {
        "id": "qfre-092Lt8V",
        "colab_type": "code",
        "colab": {}
      },
      "source": [
        "#Remove columns that has no corrletion with Weight attributes & Remove old columns\n",
        "\n",
        "df = df.drop(['ID','Sex','Sport','Event','Medal','me', 'Team', 'Season', 'Year', 'NOC', 'Games', 'City','new_age'], axis=1)\n",
        "df.iloc[0:10]\n"
      ],
      "execution_count": 0,
      "outputs": []
    },
    {
      "cell_type": "code",
      "metadata": {
        "id": "5-UrkgP_nTqx",
        "colab_type": "code",
        "colab": {}
      },
      "source": [
        "# Splitting the dataset into training and testing\n",
        "\n",
        "x = df.loc[:, df.columns != 'Weight']\n",
        "y = df.loc[:, df.columns == 'Weight']\n",
        "\n",
        "\n",
        "from sklearn.model_selection import train_test_split\n",
        "\n",
        "XTrain, XTest, YTrain, YTest = train_test_split(x , y, test_size = 0.3, random_state = 0)\n"
      ],
      "execution_count": 0,
      "outputs": []
    },
    {
      "cell_type": "code",
      "metadata": {
        "id": "GwsJ6tq2wfIy",
        "colab_type": "code",
        "colab": {}
      },
      "source": [
        "#Average value of the Weight of the athletes\n",
        "\n",
        "import matplotlib.pyplot as plt  \n",
        "import seaborn as seabornInstance \n",
        "\n",
        "plt.figure(figsize=(8,6))\n",
        "plt.tight_layout()\n",
        "seabornInstance.distplot(df['Weight'])"
      ],
      "execution_count": 0,
      "outputs": []
    },
    {
      "cell_type": "code",
      "metadata": {
        "id": "6hJDR8k3xoS0",
        "colab_type": "code",
        "colab": {}
      },
      "source": [
        "#LINEAR REGRESSION(LR) MODEL\n",
        "from sklearn.linear_model import LinearRegression\n",
        "from sklearn.preprocessing import StandardScaler\n",
        "\n",
        "lr = LinearRegression(fit_intercept= True, normalize=True, n_jobs=1)\n",
        "lr.fit(XTrain, YTrain)\n",
        "y_prediction= lr.predict(XTest)\n",
        "\n",
        "print('Intercept=',lr.intercept_)\n",
        "print('Slope=', lr.coef_)"
      ],
      "execution_count": 0,
      "outputs": []
    },
    {
      "cell_type": "code",
      "metadata": {
        "id": "QbTf1CE_opJQ",
        "colab_type": "code",
        "colab": {}
      },
      "source": [
        "#LR: Predicted vs Actual Weight\n",
        "\n",
        "df_Prediction = pd.DataFrame(y_prediction) \n",
        "df_Prediction.rename(columns={0:'Predicted (Linear Regression)'}, inplace=True)\n",
        "\n",
        "df_Prediction.reset_index(drop=True, inplace=True)\n",
        "YTest.reset_index(drop=True, inplace=True)\n",
        "\n",
        "df_lr_comparison=pd.concat([df_Prediction, YTest], axis=1)\n",
        "df_lr_comparison"
      ],
      "execution_count": 0,
      "outputs": []
    },
    {
      "cell_type": "code",
      "metadata": {
        "id": "J2_iRTSk2JNM",
        "colab_type": "code",
        "colab": {}
      },
      "source": [
        "#LR: Coefficiency of the model\n",
        "\n",
        "coef = lr.coef_ .flatten() \n",
        "df_coef= pd.DataFrame(coef)\n",
        "df_coef.rename(columns={0:'Coefficient'}, inplace=True)\n",
        "\n",
        "df_xColumns= pd.DataFrame(XTest.columns)\n",
        "df_xColumns.rename(columns={0:'Attributes'}, inplace=True)\n",
        "\n",
        "df_acoef=pd.concat([df_coef, df_xColumns], axis=1)\n",
        "df_acoef"
      ],
      "execution_count": 0,
      "outputs": []
    },
    {
      "cell_type": "code",
      "metadata": {
        "id": "xde-cCPXo2jI",
        "colab_type": "code",
        "colab": {}
      },
      "source": [
        "#LR: R2 score\n",
        "from sklearn.metrics import r2_score\n",
        "\n",
        "y_lrprediction = lr.predict(XTest)\n",
        "lr_score = r2_score(YTest,y_lrprediction, multioutput='variance_weighted')\n",
        "print('Coefficient of determination=',lr_score)\n",
        "\n",
        "#LR Variance Score \n",
        "from sklearn.metrics import explained_variance_score\n",
        "\n",
        "print('Varince Score is ',explained_variance_score(YTest, y_lrprediction,multioutput='variance_weighted'))\n",
        "\n",
        "#Performance evaluation- MAE,MSE,RMSE\n",
        "from sklearn import metrics\n",
        "\n",
        "print('Mean Absolute Error (MAE)=', metrics.mean_absolute_error(YTest, y_lrprediction))  \n",
        "print('Mean Squared Error(MSE)=', metrics.mean_squared_error(YTest, y_lrprediction))  \n",
        "print('Root Mean Squared Error (RMSE)=', np.sqrt(metrics.mean_squared_error(YTest, y_lrprediction)))\n"
      ],
      "execution_count": 0,
      "outputs": []
    },
    {
      "cell_type": "code",
      "metadata": {
        "id": "JB-iZLTYHCe9",
        "colab_type": "code",
        "colab": {}
      },
      "source": [
        "#Linear Regression Predicted vs Expected Scatter Plot\n",
        "\n",
        "plt.title ('Predicted VS Expected')\n",
        "plt.xlabel('Expected')\n",
        "plt.ylabel('Predicted')\n",
        "plt.scatter(YTest, y_prediction) \n"
      ],
      "execution_count": 0,
      "outputs": []
    },
    {
      "cell_type": "code",
      "metadata": {
        "id": "kPzmpRi1FHxd",
        "colab_type": "code",
        "outputId": "5cfc729f-c6b7-4529-a8aa-879e4749b877",
        "colab": {
          "base_uri": "https://localhost:8080/",
          "height": 88
        }
      },
      "source": [
        "#LassoCV Regression Model\n",
        "\n",
        "from sklearn.linear_model import LassoCV\n",
        "\n",
        "#R2 Score Lasso\n",
        "lasso = LassoCV(cv=5, random_state=np.random)\n",
        "lasso.fit(XTrain, YTrain)\n",
        "lasso_p=lasso.predict(XTest)\n",
        "lasso_score=r2_score(YTest,lasso_p,multioutput='variance_weighted')\n",
        "print('Coefficient of determination=',lasso_score)\n",
        "\n"
      ],
      "execution_count": 0,
      "outputs": [
        {
          "output_type": "stream",
          "text": [
            "/usr/local/lib/python3.6/dist-packages/sklearn/linear_model/coordinate_descent.py:1100: DataConversionWarning: A column-vector y was passed when a 1d array was expected. Please change the shape of y to (n_samples, ), for example using ravel().\n",
            "  y = column_or_1d(y, warn=True)\n"
          ],
          "name": "stderr"
        },
        {
          "output_type": "stream",
          "text": [
            "Coefficient of determination= 0.6288548780143\n"
          ],
          "name": "stdout"
        }
      ]
    },
    {
      "cell_type": "code",
      "metadata": {
        "id": "Ju54hCbDw5lG",
        "colab_type": "code",
        "outputId": "7e437f02-82f7-4a31-a585-c530e9cf12d0",
        "colab": {
          "base_uri": "https://localhost:8080/",
          "height": 235
        }
      },
      "source": [
        "lasso_coef = lasso.coef_ .flatten() \n",
        "df_lasso_coef= pd.DataFrame(lasso_coef)\n",
        "df_lasso_coef.rename(columns={0:'Coefficient'}, inplace=True)\n",
        "\n",
        "df_xColumns= pd.DataFrame(XTest.columns)\n",
        "df_xColumns.rename(columns={0:'Attributes'}, inplace=True)\n",
        "\n",
        "df_Lcoef=pd.concat([df_lasso_coef, df_xColumns], axis=1)\n",
        "df_Lcoef"
      ],
      "execution_count": 0,
      "outputs": [
        {
          "output_type": "execute_result",
          "data": {
            "text/html": [
              "<div>\n",
              "<style scoped>\n",
              "    .dataframe tbody tr th:only-of-type {\n",
              "        vertical-align: middle;\n",
              "    }\n",
              "\n",
              "    .dataframe tbody tr th {\n",
              "        vertical-align: top;\n",
              "    }\n",
              "\n",
              "    .dataframe thead th {\n",
              "        text-align: right;\n",
              "    }\n",
              "</style>\n",
              "<table border=\"1\" class=\"dataframe\">\n",
              "  <thead>\n",
              "    <tr style=\"text-align: right;\">\n",
              "      <th></th>\n",
              "      <th>Coefficient</th>\n",
              "      <th>Attributes</th>\n",
              "    </tr>\n",
              "  </thead>\n",
              "  <tbody>\n",
              "    <tr>\n",
              "      <th>0</th>\n",
              "      <td>81.234858</td>\n",
              "      <td>Normalized_Height</td>\n",
              "    </tr>\n",
              "    <tr>\n",
              "      <th>1</th>\n",
              "      <td>4.456506</td>\n",
              "      <td>Sex_Code</td>\n",
              "    </tr>\n",
              "    <tr>\n",
              "      <th>2</th>\n",
              "      <td>0.210709</td>\n",
              "      <td>Sport_Code</td>\n",
              "    </tr>\n",
              "    <tr>\n",
              "      <th>3</th>\n",
              "      <td>-0.016137</td>\n",
              "      <td>Event_Code</td>\n",
              "    </tr>\n",
              "    <tr>\n",
              "      <th>4</th>\n",
              "      <td>-0.000000</td>\n",
              "      <td>Medal_Code</td>\n",
              "    </tr>\n",
              "    <tr>\n",
              "      <th>5</th>\n",
              "      <td>0.779042</td>\n",
              "      <td>Age_Code</td>\n",
              "    </tr>\n",
              "  </tbody>\n",
              "</table>\n",
              "</div>"
            ],
            "text/plain": [
              "   Coefficient         Attributes\n",
              "0    81.234858  Normalized_Height\n",
              "1     4.456506           Sex_Code\n",
              "2     0.210709         Sport_Code\n",
              "3    -0.016137         Event_Code\n",
              "4    -0.000000         Medal_Code\n",
              "5     0.779042           Age_Code"
            ]
          },
          "metadata": {
            "tags": []
          },
          "execution_count": 29
        }
      ]
    },
    {
      "cell_type": "code",
      "metadata": {
        "id": "kWLx_hoE6aoA",
        "colab_type": "code",
        "outputId": "aee8782f-b85c-4916-b538-deca1984569a",
        "colab": {
          "base_uri": "https://localhost:8080/",
          "height": 34
        }
      },
      "source": [
        "#Ridge Model\n",
        "from sklearn.linear_model import Ridge\n",
        "\n",
        "r = Ridge(alpha=0.05, normalize=True)\n",
        "\n",
        "r.fit(XTrain,YTrain)\n",
        "\n",
        "r_pre = r.predict(XTest)\n",
        "\n",
        "print('r2 scor: ', r2_score(YTest,r_pre))"
      ],
      "execution_count": 0,
      "outputs": [
        {
          "output_type": "stream",
          "text": [
            "r2 scor:  0.6374944141058996\n"
          ],
          "name": "stdout"
        }
      ]
    },
    {
      "cell_type": "code",
      "metadata": {
        "id": "C3_cJ1pdRajK",
        "colab_type": "code",
        "outputId": "893da791-011b-4f19-e929-46f9df0b843d",
        "colab": {
          "base_uri": "https://localhost:8080/",
          "height": 235
        }
      },
      "source": [
        "r_coef = r.coef_ .flatten() \n",
        "df_r_coef= pd.DataFrame(r_coef)\n",
        "df_r_coef.rename(columns={0:'Coefficient'}, inplace=True)\n",
        "\n",
        "df_xColumns= pd.DataFrame(XTest.columns)\n",
        "df_xColumns.rename(columns={0:'Attributes'}, inplace=True)\n",
        "\n",
        "df_Rcoef=pd.concat([df_r_coef, df_xColumns], axis=1)\n",
        "df_Rcoef"
      ],
      "execution_count": 0,
      "outputs": [
        {
          "output_type": "execute_result",
          "data": {
            "text/html": [
              "<div>\n",
              "<style scoped>\n",
              "    .dataframe tbody tr th:only-of-type {\n",
              "        vertical-align: middle;\n",
              "    }\n",
              "\n",
              "    .dataframe tbody tr th {\n",
              "        vertical-align: top;\n",
              "    }\n",
              "\n",
              "    .dataframe thead th {\n",
              "        text-align: right;\n",
              "    }\n",
              "</style>\n",
              "<table border=\"1\" class=\"dataframe\">\n",
              "  <thead>\n",
              "    <tr style=\"text-align: right;\">\n",
              "      <th></th>\n",
              "      <th>Coefficient</th>\n",
              "      <th>Attributes</th>\n",
              "    </tr>\n",
              "  </thead>\n",
              "  <tbody>\n",
              "    <tr>\n",
              "      <th>0</th>\n",
              "      <td>91.055946</td>\n",
              "      <td>Normalized_Height</td>\n",
              "    </tr>\n",
              "    <tr>\n",
              "      <th>1</th>\n",
              "      <td>4.113731</td>\n",
              "      <td>Sex_Code</td>\n",
              "    </tr>\n",
              "    <tr>\n",
              "      <th>2</th>\n",
              "      <td>0.046074</td>\n",
              "      <td>Sport_Code</td>\n",
              "    </tr>\n",
              "    <tr>\n",
              "      <th>3</th>\n",
              "      <td>-0.001023</td>\n",
              "      <td>Event_Code</td>\n",
              "    </tr>\n",
              "    <tr>\n",
              "      <th>4</th>\n",
              "      <td>-0.212247</td>\n",
              "      <td>Medal_Code</td>\n",
              "    </tr>\n",
              "    <tr>\n",
              "      <th>5</th>\n",
              "      <td>0.981736</td>\n",
              "      <td>Age_Code</td>\n",
              "    </tr>\n",
              "  </tbody>\n",
              "</table>\n",
              "</div>"
            ],
            "text/plain": [
              "   Coefficient         Attributes\n",
              "0    91.055946  Normalized_Height\n",
              "1     4.113731           Sex_Code\n",
              "2     0.046074         Sport_Code\n",
              "3    -0.001023         Event_Code\n",
              "4    -0.212247         Medal_Code\n",
              "5     0.981736           Age_Code"
            ]
          },
          "metadata": {
            "tags": []
          },
          "execution_count": 31
        }
      ]
    },
    {
      "cell_type": "code",
      "metadata": {
        "id": "QAf43wxfpYgZ",
        "colab_type": "code",
        "colab": {}
      },
      "source": [
        "#Decision Tree Regressor\n",
        "\n",
        "from sklearn.tree import DecisionTreeRegressor\n",
        "\n",
        "regressor = DecisionTreeRegressor( min_samples_leaf=7, min_samples_split=30,max_depth=23,criterion ='friedman_mse', random_state = np.random,) \n",
        "regressor.fit(XTrain, YTrain)\n",
        "\n",
        "\n",
        "# DT Predicting an Attribute \"Weight\"\n",
        "from sklearn.metrics import r2_score\n",
        "\n",
        "\n",
        "y_pred = regressor.predict(XTest)\n",
        "score = r2_score(YTest,y_pred)\n",
        "print('Coefficient of determination=',score)\n",
        "\n",
        "print('Varince Score is ',explained_variance_score(YTest, y_pred,multioutput='variance_weighted'))\n",
        "print('Mean Absolute Error (MAE)=', metrics.mean_absolute_error(YTest, y_pred))  \n",
        "print('Mean Squared Error(MSE)=', metrics.mean_squared_error(YTest, y_pred))  \n",
        "print('Root Mean Squared Error (RMSE)=', np.sqrt(metrics.mean_squared_error(YTest, y_pred)))\n"
      ],
      "execution_count": 0,
      "outputs": []
    },
    {
      "cell_type": "code",
      "metadata": {
        "id": "j8qrwUuao0fm",
        "colab_type": "code",
        "colab": {}
      },
      "source": [
        "#DT Predicted vs Actual Weight\n",
        "\n",
        "df_DTPrediction = pd.DataFrame(y_pred) \n",
        "df_DTPrediction.rename(columns={0:'Predicted(Decision Tree)'}, inplace=True)\n",
        "\n",
        "df_DTPrediction.reset_index(drop=True, inplace=True)\n",
        "YTest.reset_index(drop=True, inplace=True)\n",
        "\n",
        "df_dt_comparison=pd.concat([df_DTPrediction, YTest], axis=1)\n",
        "df_dt_comparison\n",
        "\n"
      ],
      "execution_count": 0,
      "outputs": []
    },
    {
      "cell_type": "code",
      "metadata": {
        "id": "xn3peFGHIuR0",
        "colab_type": "code",
        "colab": {}
      },
      "source": [
        "#DT Scatter Plot Predicted vs Actual\n",
        "plt.title ('Predicted VS Expected (Decision Tree Model)')\n",
        "plt.xlabel('Expected')\n",
        "plt.ylabel('Predicted')\n",
        "plt.scatter(YTest, y_pred,c='b') "
      ],
      "execution_count": 0,
      "outputs": []
    },
    {
      "cell_type": "code",
      "metadata": {
        "id": "oWJbUNgJMHd3",
        "colab_type": "code",
        "outputId": "4fc1aa0f-6b94-4b23-bf54-29fc1d2cb5b8",
        "colab": {
          "base_uri": "https://localhost:8080/",
          "height": 121
        }
      },
      "source": [
        "\n",
        "import math\n",
        "from sklearn.neighbors import kneighbors_graph\n",
        "from sklearn import neighbors\n",
        "\n",
        "for k in range(13):\n",
        "    k = k+1\n",
        "    kn = neighbors.KNeighborsRegressor(n_neighbors = k,weights= 'distance', )\n",
        "\n",
        "kn.fit(XTrain, YTrain)  \n",
        "kn_pr=kn.predict(XTest)\n",
        "mse = math.sqrt(metrics.mean_squared_error(YTest,kn_pr)) \n",
        "\n",
        "print('RMSE value of K= ', mse)\n",
        "# DT Predicting an Attribute \"Weight\"\n",
        "from sklearn.metrics import r2_score\n",
        "kn_score = r2_score(YTest,kn_pr)\n",
        "print('Coefficient of determination=',kn_score)\n",
        "\n",
        "print('Varince Score is ',explained_variance_score(YTest, kn_pr,multioutput='variance_weighted'))\n",
        "print('Mean Absolute Error (MAE)=', metrics.mean_absolute_error(YTest, kn_pr))  \n",
        "print('Mean Squared Error(MSE)=', metrics.mean_squared_error(YTest, kn_pr))  \n",
        "print('Root Mean Squared Error (RMSE)=', np.sqrt(metrics.mean_squared_error(YTest, kn_pr)))"
      ],
      "execution_count": 0,
      "outputs": [
        {
          "output_type": "stream",
          "text": [
            "RMSE value of K=  5.589448001585552\n",
            "Coefficient of determination= 0.8039595714073426\n",
            "Varince Score is  0.8039644578087206\n",
            "Mean Absolute Error (MAE)= 3.5129717072614737\n",
            "Mean Squared Error(MSE)= 31.241928962428727\n",
            "Root Mean Squared Error (RMSE)= 5.589448001585552\n"
          ],
          "name": "stdout"
        }
      ]
    },
    {
      "cell_type": "code",
      "metadata": {
        "id": "F492lp0pcsBb",
        "colab_type": "code",
        "outputId": "3aedbdc0-f62a-418e-9d7e-8e69363c3ca5",
        "colab": {
          "base_uri": "https://localhost:8080/",
          "height": 313
        }
      },
      "source": [
        "#KNN Scatter plot\n",
        "\n",
        "plt.title ('Predicted VS Expected (KNN)')\n",
        "plt.xlabel('Expected')\n",
        "plt.ylabel('Predicted')\n",
        "plt.scatter(YTest, kn_pr, c='b') "
      ],
      "execution_count": 44,
      "outputs": [
        {
          "output_type": "execute_result",
          "data": {
            "text/plain": [
              "<matplotlib.collections.PathCollection at 0x7f58a9d4e780>"
            ]
          },
          "metadata": {
            "tags": []
          },
          "execution_count": 44
        },
        {
          "output_type": "display_data",
          "data": {
            "image/png": "[encoded data removed]",
            "text/plain": [
              "<Figure size 432x288 with 1 Axes>"
            ]
          },
          "metadata": {
            "tags": []
          }
        }
      ]
    }
  ]
}